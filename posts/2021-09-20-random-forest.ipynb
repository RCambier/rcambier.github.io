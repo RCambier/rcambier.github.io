{
 "cells": [
  {
   "cell_type": "raw",
   "metadata": {},
   "source": [
    "---\n",
    "aliases:\n",
    "- /ai/2021/09/20/random-forest\n",
    "badges: true\n",
    "categories:\n",
    "- ai\n",
    "date: '2021-09-20'\n",
    "description: Create random forest from scratch in Python\n",
    "output-file: 2021-09-20-random-forest.html\n",
    "publishes: true\n",
    "title: Random forest\n",
    "\n",
    "---\n",
    "\n"
   ]
  },
  {
   "cell_type": "code",
   "execution_count": 75,
   "metadata": {},
   "outputs": [],
   "source": [
    "from sklearn.datasets import load_breast_cancer\n",
    "import pandas as pd\n",
    "import numpy as np\n",
    "from sklearn.tree import DecisionTreeClassifier\n",
    "from sklearn.metrics import f1_score\n",
    "import random"
   ]
  },
  {
   "cell_type": "code",
   "execution_count": 76,
   "metadata": {
    "id": "fbeKwAVFuicN"
   },
   "outputs": [],
   "source": [
    "raw = load_breast_cancer(return_X_y=True)\n",
    "\n",
    "X = pd.DataFrame(raw[0])\n",
    "y = pd.DataFrame(raw[1])"
   ]
  },
  {
   "cell_type": "code",
   "execution_count": 77,
   "metadata": {},
   "outputs": [
    {
     "data": {
      "text/plain": [
       "(RangeIndex(start=0, stop=30, step=1), 5)"
      ]
     },
     "execution_count": 77,
     "metadata": {},
     "output_type": "execute_result"
    }
   ],
   "source": [
    "features = X.columns\n",
    "n_features = len(features)\n",
    "n_features_to_consider = int(round(np.sqrt(n_features)))\n",
    "features, n_features_to_consider"
   ]
  },
  {
   "cell_type": "code",
   "execution_count": 78,
   "metadata": {},
   "outputs": [],
   "source": [
    "trees = []\n",
    "\n",
    "for i in range(10): \n",
    "    feature_subset = random.sample(features.values.tolist(), k=n_features_to_consider)\n",
    "    tree = DecisionTreeClassifier(max_depth=2)\n",
    "    sampling_index = X.sample(frac=1).index # RANDOMly select data to train on \n",
    "    tree.fit(X.loc[sampling_index, feature_subset], y.loc[sampling_index]) # RANDOMly select features to train on\n",
    "    trees.append((tree, feature_subset))"
   ]
  },
  {
   "cell_type": "code",
   "execution_count": 79,
   "metadata": {},
   "outputs": [],
   "source": [
    "rf_predictions = np.mean([tree.predict(X.loc[:, features]) for tree, features in trees], axis=0)"
   ]
  },
  {
   "cell_type": "code",
   "execution_count": 80,
   "metadata": {},
   "outputs": [
    {
     "name": "stdout",
     "output_type": "stream",
     "text": [
      "0.9195088676671215\n",
      "0.9346879535558781\n",
      "0.9439124487004104\n",
      "0.9482517482517482\n",
      "0.9410187667560322\n"
     ]
    }
   ],
   "source": [
    "# The precision of a single tree\n",
    "for i in range(5):\n",
    "    one_tree_predictions = trees[i][0].predict(X.loc[:, trees[i][1]])\n",
    "    print(f1_score(y, one_tree_predictions) )"
   ]
  },
  {
   "cell_type": "code",
   "execution_count": 81,
   "metadata": {},
   "outputs": [
    {
     "data": {
      "text/plain": [
       "0.9665738161559889"
      ]
     },
     "execution_count": 81,
     "metadata": {},
     "output_type": "execute_result"
    }
   ],
   "source": [
    "# The precision of the forest\n",
    "f1_score(y, (rf_predictions > 0.5) * 1)"
   ]
  }
 ],
 "metadata": {
  "interpreter": {
   "hash": "fd589ee5ced0891cb656c7a70d902ac388d33fb7278304a3342d085a5b2186d0"
  },
  "kernelspec": {
   "display_name": "Python 3.8.2 64-bit ('base': conda)",
   "name": "python3"
  },
  "language_info": {
   "codemirror_mode": {
    "name": "ipython",
    "version": 3
   },
   "file_extension": ".py",
   "mimetype": "text/x-python",
   "name": "python",
   "nbconvert_exporter": "python",
   "pygments_lexer": "ipython3",
   "version": "3.8.2"
  },
  "orig_nbformat": 4
 },
 "nbformat": 4,
 "nbformat_minor": 2
}
