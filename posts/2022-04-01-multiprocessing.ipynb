{
 "cells": [
  {
   "cell_type": "raw",
   "metadata": {},
   "source": [
    "---\n",
    "aliases:\n",
    "- /programming/2022/04/01/multiprocessing\n",
    "badges: true\n",
    "categories:\n",
    "- programming\n",
    "date: '2022-04-01'\n",
    "description: Create a nice multiprocessing logic with a loading bar\n",
    "output-file: 2022-04-01-multiprocessing.html\n",
    "publishes: true\n",
    "title: Python multiprocessing with loading bar\n",
    "\n",
    "---\n",
    "\n"
   ]
  },
  {
   "cell_type": "markdown",
   "metadata": {},
   "source": [
    "Multiprocessing in Python is already not the best. But on top of it, I always want to add a loading bar that tells me how much work has been performed. \n",
    "It took me a while to figure out how to best do that. \n",
    "\n",
    "What I want is: \n",
    "- Work gets done in parrallel, either in threads or in processes depending on how much GIL locking there is in my function. \n",
    "- The loading bar progresses as work gets done. \n",
    "- When the progress bars hits the end, work is finished.\n",
    "- You can pipe a generator into the parrallel processing, and it will be consumed progressively\n",
    "\n",
    "What I settled for is the below code. It consumes the `iterable` generator progressively, and displays a progress bar indicating how much work has been achieved. \n",
    "\n",
    "### For multiprocessing:"
   ]
  },
  {
   "cell_type": "code",
   "execution_count": null,
   "metadata": {},
   "outputs": [],
   "source": [
    "from multiprocessing.pool import Pool\n",
    "from tqdm.auto import tqdm \n",
    "import time\n",
    "\n",
    "def work_function(arg): \n",
    "    time.sleep(arg)\n",
    "    return arg\n",
    "\n",
    "def iterable():\n",
    "    for i in range(0,20):\n",
    "        time.sleep(i/10)\n",
    "        yield i\n",
    "\n",
    "with Pool(10) as p: \n",
    "    results = list(tqdm(p.imap(work_function, iterable(), chunksize=1)))\n",
    "    print(results)\n",
    "    print(\"done\")"
   ]
  },
  {
   "cell_type": "markdown",
   "metadata": {},
   "source": [
    "### For multithreading:"
   ]
  },
  {
   "cell_type": "code",
   "execution_count": null,
   "metadata": {},
   "outputs": [],
   "source": [
    "from multiprocessing.pool import ThreadPool\n",
    "from tqdm.auto import tqdm \n",
    "import time\n",
    "\n",
    "def work_function(arg): \n",
    "    time.sleep(arg)\n",
    "    return arg\n",
    "\n",
    "def iterable():\n",
    "    for i in range(0,20):\n",
    "        time.sleep(i/10)\n",
    "        yield i\n",
    "\n",
    "with ThreadPool(10) as p: \n",
    "    results = list(tqdm(p.imap(work_function, iterable(), chunksize=1)))\n",
    "    print(results)\n",
    "    print(\"done\")"
   ]
  },
  {
   "cell_type": "markdown",
   "metadata": {},
   "source": [
    "## Why not use concurrent.futures ? \n",
    "\n",
    "Because this option does not allow for the `imap` multiprocessing. This means that all the iterable will be consumed before being sent to the workers. This could be fine, but sometimes, if the iterable takes time to compute or is a generator itself, you don't want to consume it fully before starting the concurrent processing. \n",
    "\n",
    "Try the code below. Notice that the loading bar starts appearing once the iterable has been consumed, which means it already reached the 13/20 iteration. "
   ]
  },
  {
   "cell_type": "code",
   "execution_count": null,
   "metadata": {},
   "outputs": [],
   "source": [
    "from concurrent.futures import ProcessPoolExecutor\n",
    "from tqdm.auto import tqdm \n",
    "import time\n",
    "\n",
    "def work_function(arg): \n",
    "    time.sleep(arg)\n",
    "    return arg\n",
    "\n",
    "def iterable():\n",
    "    for i in range(0,20):\n",
    "        time.sleep(i/10)\n",
    "        yield i\n",
    "\n",
    "with ProcessPoolExecutor(10) as p: \n",
    "    results = list(tqdm(p.map(work_function, iterable(), chunksize=1)))\n",
    "    print(results)\n",
    "    print(\"done\")"
   ]
  },
  {
   "cell_type": "markdown",
   "metadata": {},
   "source": [
    "# What about tqdm process_map ?\n",
    "\n",
    "`tqdm.contrib.concurrent.process_map` is essentially the same as the concurrent.futures behind the scenes, and will exhibit the same behavior. "
   ]
  },
  {
   "cell_type": "markdown",
   "metadata": {},
   "source": [
    "# How to share data accross workers"
   ]
  },
  {
   "cell_type": "markdown",
   "metadata": {},
   "source": [
    "When you use thread workers, the data will simply be accessible to every thread directly. You can share it as a variable or as a global object. "
   ]
  },
  {
   "cell_type": "code",
   "execution_count": null,
   "metadata": {},
   "outputs": [],
   "source": [
    "some_global_data = pd.read_parquet(\"huge_file.parquet\")\n",
    "\n",
    "def work_function(arg): \n",
    "    # `some_global_data` and `arg` are coming straight form the memory\n",
    "    # shared accross threads\n",
    "    s = some_global_data[some_global_data.val == some_data].sum()\n",
    "    return s\n",
    "\n",
    "with ThreadPoolExecutor(10) as p: \n",
    "    results = list(tqdm(p.map(work_function, iterable())))"
   ]
  },
  {
   "cell_type": "markdown",
   "metadata": {},
   "source": [
    "However, when you use process workers, the data shared to workers as arguments is most often pickled and shared as a string. This could quickly be an issue. For 2 reasons: \n",
    "- Pickling a big object and sending it to every worker can be very expensive\n",
    "- This will copy the object many times, which could harm the available memory\n",
    "\n",
    "The global data is shared directly from the memory, but it is copied to each worker. Which is also harming the memory. \n",
    "\n",
    "So what can we do ? Not a lot, there are no great mechanics (that I am aware of) to share data accross process workers in Python. It's basically a work in progress: https://lukasz.langa.pl/5d044f91-49c1-4170-aed1-62b6763e6ad0/"
   ]
  },
  {
   "cell_type": "markdown",
   "metadata": {},
   "source": [
    "There is still a trick you can use, but with varying degrees of success. It's to simply share the object globally accross the workers. \n",
    "\n",
    "When Python starts a process, it's going to fork the main process. This means that all data will be copied to the child processes. But it's going to do a _copy on write_. This means that the underlying data will still be read from the main process (even from a child process) and will only be copied when it changes. This means that you can share the data accross all the processes withtout any memory increases. \n",
    "\n",
    "Unfortunately, this assumption does not hold very long in Python. Since Python modifies object for reference counting (and other) reasons behind the scenes, the object will soon be copied to the child process even if you don't explicity modify it yourself. \n",
    "\n",
    "Still, I've noticed that this often works and saves me when processing a huge object with many processes. I would then do something like this: "
   ]
  },
  {
   "cell_type": "code",
   "execution_count": null,
   "metadata": {},
   "outputs": [],
   "source": [
    "\n",
    "big_object = pd.read_parquet(\"big_file.parquet\")\n",
    "\n",
    "def work_function(arg): \n",
    "    # big object is in the global scope, and might not be copied to the\n",
    "    # child process for a while. \n",
    "    s = big_object[big_object.val == arg].sum()\n",
    "    return s\n",
    "\n",
    "with ProcessPoolExecutor(10) as p: \n",
    "    results = list(tqdm(p.map(work_function, iterable())))"
   ]
  }
 ],
 "metadata": {
  "language_info": {
   "name": "python"
  },
  "orig_nbformat": 4
 },
 "nbformat": 4,
 "nbformat_minor": 2
}
