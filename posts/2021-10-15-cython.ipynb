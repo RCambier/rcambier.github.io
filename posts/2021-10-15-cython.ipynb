{
 "cells": [
  {
   "cell_type": "raw",
   "metadata": {},
   "source": [
    "---\n",
    "aliases:\n",
    "- /programming/2021/10/15/cython\n",
    "badges: true\n",
    "categories:\n",
    "- programming\n",
    "date: '2021-10-15'\n",
    "description: Trying out cython\n",
    "output-file: 2021-10-15-cython.html\n",
    "publishes: true\n",
    "title: Cython for fast python\n",
    "\n",
    "---\n",
    "\n"
   ]
  },
  {
   "cell_type": "markdown",
   "metadata": {},
   "source": [
    "A philosophy I like to follow in Python is \"Python is slow, let's code everything and than see if we have any bottleneck we should replace with something else\". If you find such bottlenecks, you can replace them with a faster library or another language.\n",
    "\n",
    "Replacing Python by Cython is one of the ways to speedup such bottlenecks. "
   ]
  },
  {
   "cell_type": "markdown",
   "metadata": {},
   "source": [
    "Let's try to code a correlation computation function in cython and compare it to Python or Numpy. "
   ]
  },
  {
   "cell_type": "markdown",
   "metadata": {},
   "source": [
    "First, the easy numpy version"
   ]
  },
  {
   "cell_type": "code",
   "execution_count": 8,
   "metadata": {},
   "outputs": [],
   "source": [
    "a = [1,2,3,4,5,6] * 1000\n",
    "b = [2,3,4,5,7,6] * 1000"
   ]
  },
  {
   "cell_type": "code",
   "execution_count": 9,
   "metadata": {},
   "outputs": [
    {
     "name": "stdout",
     "output_type": "stream",
     "text": [
      "947 µs ± 113 µs per loop (mean ± std. dev. of 7 runs, 1000 loops each)\n"
     ]
    }
   ],
   "source": [
    "import numpy as np\n",
    "\n",
    "%timeit np.corrcoef(a,b)"
   ]
  },
  {
   "cell_type": "markdown",
   "metadata": {},
   "source": [
    "Now, a simple pupre Python version. "
   ]
  },
  {
   "cell_type": "code",
   "execution_count": 10,
   "metadata": {},
   "outputs": [
    {
     "name": "stdout",
     "output_type": "stream",
     "text": [
      "2.38 ms ± 85.8 µs per loop (mean ± std. dev. of 7 runs, 100 loops each)\n"
     ]
    }
   ],
   "source": [
    "def correlation(a_samples, b_samples): \n",
    "  a_mean = sum(a_samples) / len(a_samples)\n",
    "  b_mean = sum(b_samples) / len(b_samples)\n",
    "\n",
    "  diff_a_samples = [a - a_mean for a in a_samples]\n",
    "  diff_b_samples = [b - b_mean for b in b_samples]\n",
    "\n",
    "  covariance = sum([diff_a * diff_b for diff_a, diff_b  in zip(diff_a_samples, diff_b_samples)]) \n",
    "  variance_a = sum(diff_a ** 2 for diff_a in diff_a_samples)\n",
    "  variance_b = sum(diff_b ** 2 for diff_b in diff_b_samples)\n",
    "  correlation = covariance / (variance_a * variance_b) ** (1/2)\n",
    "  return correlation\n",
    "\n",
    "%timeit correlation(a,b)"
   ]
  },
  {
   "cell_type": "markdown",
   "metadata": {},
   "source": [
    "Let's now try to build a version in cython. \n",
    "\n",
    "First, I have to transform the Python lists in C arrays. \n",
    "Then I compute the values one by one, making sure that I don't leave any Python operations. "
   ]
  },
  {
   "cell_type": "code",
   "execution_count": 11,
   "metadata": {},
   "outputs": [
    {
     "name": "stdout",
     "output_type": "stream",
     "text": [
      "The cython extension is already loaded. To reload it, use:\n",
      "  %reload_ext cython\n"
     ]
    }
   ],
   "source": [
    "%load_ext cython"
   ]
  },
  {
   "cell_type": "code",
   "execution_count": null,
   "metadata": {},
   "outputs": [],
   "source": [
    "%%cython\n",
    "\n",
    "import cython\n",
    "\n",
    "from libc.stdlib cimport malloc, free\n",
    "from libc.math cimport sqrt\n",
    "\n",
    "def cython_correlation(a_samples, b_samples): \n",
    "  cdef int a_len = len(a_samples)\n",
    "  cdef int b_len = len(b_samples)\n",
    "\n",
    "  # First we convert the Python lists into C arrays\n",
    "  a_samples_array = <int *>malloc(a_len*cython.sizeof(int))\n",
    "  if a_samples_array is NULL:\n",
    "    raise MemoryError\n",
    "  b_samples_array = <int *>malloc(b_len*cython.sizeof(int))\n",
    "  if b_samples_array is NULL: \n",
    "    raise MemoryError\n",
    "  \n",
    "  cdef int i = 0\n",
    "  for i in range(a_len): \n",
    "    a_samples_array[i] = a_samples[i]\n",
    "    b_samples_array[i] = b_samples[i]\n",
    "\n",
    "  # Now we can compute the correlation\n",
    "\n",
    "  # First compute the sum of the arrays\n",
    "  cdef int a_sum = 0\n",
    "  for i in range(a_len):\n",
    "    a_sum += a_samples_array[i]\n",
    "\n",
    "  cdef int b_sum = 0\n",
    "  for i in range(a_len):\n",
    "    b_sum += b_samples_array[i]\n",
    "\n",
    "  # Then we can compute the means\n",
    "  cdef double a_mean\n",
    "  cdef double b_mean\n",
    "  a_mean = a_sum / a_len\n",
    "  b_mean = b_sum / b_len\n",
    "  \n",
    "  # We then put the difference to the means in new arrays\n",
    "  diff_a_samples = <double *>malloc(a_len*cython.sizeof(double))\n",
    "  if diff_a_samples is NULL:\n",
    "    raise MemoryError\n",
    "  diff_b_samples = <double *>malloc(b_len*cython.sizeof(double))\n",
    "  if diff_b_samples is NULL: \n",
    "    raise MemoryError\n",
    "\n",
    "  for i in range(a_len):\n",
    "    diff_a_samples[i] = a_samples_array[i] - a_mean\n",
    "    diff_b_samples[i] = b_samples_array[i] - b_mean\n",
    "\n",
    "  # This then allows us to easily compute the \n",
    "  # covariance and variances.  \n",
    "  cdef double covariance = 0\n",
    "  for i in range(a_len):\n",
    "    covariance += diff_a_samples[i] * diff_b_samples[i]\n",
    "\n",
    "  cdef double variance_a = 0\n",
    "  cdef double variance_b = 0\n",
    "  for i in range(a_len):\n",
    "    variance_a += diff_a_samples[i] ** 2\n",
    "    variance_b += diff_b_samples[i] ** 2\n",
    "\n",
    "\n",
    "  cdef double correlation = 0\n",
    "  cdef double variance_product = (variance_a * variance_b)\n",
    "  correlation = covariance / sqrt(variance_product)\n",
    "\n",
    "  free(a_samples_array)\n",
    "  free(b_samples_array)\n",
    "\n",
    "  return correlation"
   ]
  },
  {
   "cell_type": "code",
   "execution_count": null,
   "metadata": {},
   "outputs": [],
   "source": [
    "%timeit cython_correlation(a,b)\n",
    "\n",
    "# 10000 loops, best of 5: 154 µs per loop"
   ]
  },
  {
   "cell_type": "markdown",
   "metadata": {},
   "source": [
    "Nice! We got a 6X improvement compared to Numpy and 15X improvement compared to pure Python. Pretty cool. "
   ]
  }
 ],
 "metadata": {
  "interpreter": {
   "hash": "1cd4112ee697feb47ec4321357aa333673c485b2f335328c935108ae8c7ab29f"
  },
  "kernelspec": {
   "display_name": "Python 3.8.11 64-bit ('scratch': conda)",
   "name": "python3"
  },
  "language_info": {
   "codemirror_mode": {
    "name": "ipython",
    "version": 3
   },
   "file_extension": ".py",
   "mimetype": "text/x-python",
   "name": "python",
   "nbconvert_exporter": "python",
   "pygments_lexer": "ipython3",
   "version": "3.8.11"
  },
  "orig_nbformat": 4
 },
 "nbformat": 4,
 "nbformat_minor": 2
}
