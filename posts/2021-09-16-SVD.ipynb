{
 "cells": [
  {
   "cell_type": "raw",
   "metadata": {},
   "source": [
    "---\n",
    "aliases:\n",
    "- /ai/2021/09/16/SVD\n",
    "badges: true\n",
    "categories:\n",
    "- ai\n",
    "date: '2021-09-16'\n",
    "description: Singular value decomposition from scratch\n",
    "output-file: 2021-09-16-svd.html\n",
    "publishes: true\n",
    "title: SVD\n",
    "\n",
    "---\n",
    "\n"
   ]
  },
  {
   "cell_type": "code",
   "execution_count": 1,
   "metadata": {
    "id": "3pBRi0IiMY3s"
   },
   "outputs": [],
   "source": [
    "import pandas as pd\n",
    "import numpy as np\n",
    "from scipy.linalg import eig\n",
    "\n",
    "raw = pd.read_csv(\"https://raw.githubusercontent.com/smanihwr/ml-latest-small/master/ratings.csv\")\n",
    "user_item_interactions = raw.pivot(values=\"rating\", columns=\"movieId\", index=\"userId\")\n",
    "user_item_interactions = user_item_interactions.fillna(0)"
   ]
  },
  {
   "cell_type": "code",
   "execution_count": 14,
   "metadata": {
    "id": "98Wekoeuvn9n"
   },
   "outputs": [],
   "source": [
    "A = np.array([\n",
    "              [5,5,0,1],\n",
    "              [5,5,0,0],\n",
    "              [0,1,5,5],\n",
    "              [0,0,5,5],\n",
    "              [0,0,3,5]\n",
    "])\n",
    "\n",
    "# Get the singular vectors of V from the eigenvectors of the covariance matrix\n",
    "V_eigen_values, V_unordered = np.linalg.eig(A.T @ A) \n",
    "# We need to sort them by the magnitude of the eigenvalues\n",
    "idx_V = np.argsort(V_eigen_values)[::-1] \n",
    "V = V_unordered[:,idx_V]\n",
    "\n",
    "# Compute the singular vectors of U. We could also use the eingenvectors, but we need to base it on V to have the correct vector directions.\n",
    "# U_eigen_values, U = np.linalg.eig(A @ A.T) this is similar but leads to incorrect directions for the eigenvectors\n",
    "U = A @ V / np.linalg.norm(A @ V, axis=0)\n",
    "\n",
    "# The matrix D is the square root of the eigenvalues.\n",
    "D = np.sqrt(np.around(V_eigen_values[idx_V], decimals=10))"
   ]
  },
  {
   "cell_type": "code",
   "execution_count": 15,
   "metadata": {
    "colab": {
     "base_uri": "https://localhost:8080/"
    },
    "id": "pOp-bLIEFRsK",
    "outputId": "67d054d4-84e2-455f-f31e-e79dfbc2a656"
   },
   "outputs": [
    {
     "data": {
      "text/plain": [
       "array([[ 5.,  5., -0.,  1.],\n",
       "       [ 5.,  5.,  0., -0.],\n",
       "       [ 0.,  1.,  5.,  5.],\n",
       "       [-0.,  0.,  5.,  5.],\n",
       "       [ 0., -0.,  3.,  5.]])"
      ]
     },
     "execution_count": 15,
     "metadata": {},
     "output_type": "execute_result"
    }
   ],
   "source": [
    "np.around(np.matrix(U) @ np.diag(D) @ np.matrix(V.T), decimals=1)"
   ]
  },
  {
   "cell_type": "code",
   "execution_count": 8,
   "metadata": {
    "colab": {
     "base_uri": "https://localhost:8080/"
    },
    "id": "QDtPDmVhY9QH",
    "outputId": "ad1cb6ef-9361-4c77-e8e1-551a9858250f"
   },
   "outputs": [
    {
     "data": {
      "text/plain": [
       "array([[ 5.,  5., -0.,  1.],\n",
       "       [ 5.,  5., -0., -0.],\n",
       "       [-0.,  1.,  5.,  5.],\n",
       "       [-0.,  0.,  5.,  5.],\n",
       "       [-0.,  0.,  3.,  5.]])"
      ]
     },
     "execution_count": 8,
     "metadata": {},
     "output_type": "execute_result"
    }
   ],
   "source": [
    "U_, D_, Vt_ = np.linalg.svd(A)\n",
    "np.around(np.matrix(U_) @ np.vstack((np.diag(D_), np.zeros((len(Vt_))))) @ np.matrix(Vt_), decimals=1)"
   ]
  },
  {
   "cell_type": "markdown",
   "metadata": {
    "id": "smUC1hSnJPnE"
   },
   "source": [
    "## Truncated SVD"
   ]
  },
  {
   "cell_type": "markdown",
   "metadata": {
    "id": "lwWBXxCoIDRL"
   },
   "source": [
    "Truncate the SVD to 2 components by only keeping the two bigest eigenvalues"
   ]
  },
  {
   "cell_type": "code",
   "execution_count": 16,
   "metadata": {
    "colab": {
     "base_uri": "https://localhost:8080/"
    },
    "id": "wHPCbXwnHwwy",
    "outputId": "31af80f9-048b-4215-c522-17e3f5796668"
   },
   "outputs": [
    {
     "data": {
      "text/plain": [
       "matrix([[-0.23093819, -0.66810948],\n",
       "        [-0.16863574, -0.68636674],\n",
       "        [-0.59892473,  0.13274366],\n",
       "        [-0.57986295,  0.20070102],\n",
       "        [-0.47252267,  0.15693514]])"
      ]
     },
     "execution_count": 16,
     "metadata": {},
     "output_type": "execute_result"
    }
   ],
   "source": [
    "np.matrix(U[:, :2])"
   ]
  },
  {
   "cell_type": "code",
   "execution_count": 17,
   "metadata": {
    "colab": {
     "base_uri": "https://localhost:8080/"
    },
    "id": "qEzGazXijeqP",
    "outputId": "9c8279b2-b2dd-4e8b-88d2-453ce730f214"
   },
   "outputs": [
    {
     "data": {
      "text/plain": [
       "array([[ 5. ,  5. ,  0.3,  0.8],\n",
       "       [ 5. ,  5. , -0.2,  0.2],\n",
       "       [ 0.3,  0.7,  4.7,  5.3],\n",
       "       [-0.2,  0.2,  4.7,  5.3],\n",
       "       [-0.1,  0.2,  3.8,  4.3]])"
      ]
     },
     "execution_count": 17,
     "metadata": {},
     "output_type": "execute_result"
    }
   ],
   "source": [
    "np.around(np.matrix(U[:, :2]) @ np.diag(D[:2]) @ np.matrix(V[:,:2].T), decimals=1)"
   ]
  }
 ],
 "metadata": {
  "colab": {
   "name": "AI basics.ipynb",
   "provenance": [],
   "toc_visible": true
  },
  "interpreter": {
   "hash": "fd589ee5ced0891cb656c7a70d902ac388d33fb7278304a3342d085a5b2186d0"
  },
  "kernelspec": {
   "display_name": "Python 3.8.2 64-bit ('base': conda)",
   "name": "python3"
  },
  "language_info": {
   "codemirror_mode": {
    "name": "ipython",
    "version": 3
   },
   "file_extension": ".py",
   "mimetype": "text/x-python",
   "name": "python",
   "nbconvert_exporter": "python",
   "pygments_lexer": "ipython3",
   "version": "3.8.2"
  }
 },
 "nbformat": 4,
 "nbformat_minor": 2
}
