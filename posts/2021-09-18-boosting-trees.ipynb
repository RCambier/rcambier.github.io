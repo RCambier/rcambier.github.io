{
 "cells": [
  {
   "cell_type": "raw",
   "metadata": {},
   "source": [
    "---\n",
    "aliases:\n",
    "- /ai/2021/09/18/boosting-trees\n",
    "badges: true\n",
    "categories:\n",
    "- ai\n",
    "date: '2021-09-18'\n",
    "description: Simple boosting trees, for regression and classification in python from\n",
    "  scratch\n",
    "output-file: 2021-09-18-boosting-trees.html\n",
    "publishes: true\n",
    "title: Gradient Boosting trees\n",
    "\n",
    "---\n",
    "\n"
   ]
  },
  {
   "cell_type": "markdown",
   "metadata": {
    "id": "cELsxC2Su_o8"
   },
   "source": [
    "# Boosting trees"
   ]
  },
  {
   "cell_type": "markdown",
   "metadata": {},
   "source": [
    "## Regression"
   ]
  },
  {
   "cell_type": "code",
   "execution_count": 6,
   "metadata": {
    "id": "Q9iIbM3fnJiC"
   },
   "outputs": [],
   "source": [
    "from sklearn.datasets import load_wine, load_breast_cancer, load_boston\n",
    "import pandas as pd\n",
    "import numpy as np\n",
    "from sklearn.tree import DecisionTreeClassifier, DecisionTreeRegressor\n",
    "from sklearn.model_selection import cross_val_score\n",
    "from sklearn.metrics import f1_score, mean_absolute_error\n",
    "from sklearn.ensemble._gb_losses import BinomialDeviance"
   ]
  },
  {
   "cell_type": "code",
   "execution_count": 3,
   "metadata": {
    "colab": {
     "base_uri": "https://localhost:8080/"
    },
    "id": "PSm5xGcCvY8T",
    "outputId": "7d61722f-0f00-4234-8542-71f70d45e5b8"
   },
   "outputs": [
    {
     "name": "stdout",
     "output_type": "stream",
     "text": [
      "Error with mean:  6.647207423956011\n",
      "Error with boosting:  3.3369627690621475\n"
     ]
    }
   ],
   "source": [
    "raw = load_boston(return_X_y=True)\n",
    "\n",
    "X = pd.DataFrame(raw[0])\n",
    "y = pd.DataFrame(raw[1])\n",
    "\n",
    "initial_predictions = [y.mean()[0]] * len(y)\n",
    "\n",
    "\n",
    "print(\"Error with mean: \", mean_absolute_error(y, initial_predictions))\n",
    "\n",
    "learning_rate = 0.3\n",
    "\n",
    "# Let's build some trees !\n",
    "predictions_so_far = initial_predictions\n",
    "gradient_of_loss = (y.values.reshape(-1) - predictions_so_far)\n",
    "trees = []\n",
    "for i in range(5): \n",
    "\n",
    "  # Train a tree on the latest residuals\n",
    "  tree = DecisionTreeRegressor(max_depth=1)\n",
    "  tree.fit(X, gradient_of_loss)\n",
    "  trees.append(tree)\n",
    "\n",
    "  # Compute the predictions of the trees\n",
    "  predictions_so_far = predictions_so_far + learning_rate * tree.predict(X).reshape(-1) # Each tree tries to predict the error. \n",
    "\n",
    "  # Get the new residuals. This is what we fit the next tree on\n",
    "  # Residuals are the gradient of the loss with respect to the previous trees predictions. \n",
    "  # In this case the loss is MSE: \n",
    "  # loss = (y_hat - y) ** 2\n",
    "  # loss_gradient_with_respect_to_y = - 2 * (y_hat - y) = 2 * (y - y_hat)\n",
    "  gradient_of_loss =  2* (y.values.reshape(-1) - predictions_so_far)\n",
    "\n",
    "print(\"Error with boosting: \", mean_absolute_error(y, predictions_so_far))"
   ]
  },
  {
   "cell_type": "markdown",
   "metadata": {},
   "source": [
    "## Classification"
   ]
  },
  {
   "cell_type": "code",
   "execution_count": 4,
   "metadata": {
    "id": "Q9iIbM3fnJiC"
   },
   "outputs": [],
   "source": [
    "from sklearn.datasets import load_wine, load_breast_cancer\n",
    "import pandas as pd\n",
    "import numpy as np\n",
    "from sklearn.tree import DecisionTreeClassifier, DecisionTreeRegressor\n",
    "from sklearn.model_selection import cross_val_score\n",
    "from sklearn.metrics import f1_score"
   ]
  },
  {
   "cell_type": "code",
   "execution_count": null,
   "metadata": {},
   "outputs": [],
   "source": [
    "def update_lead_values(tree): \n",
    "    "
   ]
  },
  {
   "cell_type": "code",
   "execution_count": 14,
   "metadata": {},
   "outputs": [
    {
     "name": "stdout",
     "output_type": "stream",
     "text": [
      "Initial score:  0.7710583153347732\n",
      "Score with boosting:  0.922279792746114\n"
     ]
    }
   ],
   "source": [
    "raw = load_breast_cancer(return_X_y=True)\n",
    "\n",
    "X = pd.DataFrame(raw[0])\n",
    "y = pd.DataFrame(raw[1])\n",
    "\n",
    "p = y.mean()[0]\n",
    "initial_predictions = np.array([np.log(p/(1-p))] * len(y))# Initial prediction is logodds of y\n",
    "print(\"Initial score: \", f1_score(y, (initial_predictions > 0.5) *1))\n",
    "\n",
    "\n",
    "learning_rate = 0.3\n",
    "\n",
    "def sigmoid(x): \n",
    "  return 1 / (1 + np.exp(-x))\n",
    "\n",
    "y_hat = sigmoid(initial_predictions)\n",
    "gradient_of_loss = y_hat - y.values.reshape(-1)\n",
    "\n",
    "\n",
    "trees = []\n",
    "predictions_so_far = initial_predictions\n",
    "for i in range(5): \n",
    "\n",
    "  # Train a tree on the latest residuals\n",
    "  tree = DecisionTreeRegressor(max_depth=1)\n",
    "  tree.fit(X, gradient_of_loss)\n",
    "\n",
    "  # TODO: Here you need to update the values of the tree leaves\n",
    "  # to equal a specific value each. \n",
    "\n",
    "  trees.append(tree)\n",
    "\n",
    "  # Compute the predictions of the trees\n",
    "  predictions_so_far = predictions_so_far - learning_rate * tree.predict(X).reshape(-1) \n",
    "\n",
    "  # The gradient of the loss with respect to y_hat\n",
    "  # is y_hat - y. Neat.\n",
    "  y_hat = sigmoid(predictions_so_far)\n",
    "  gradient_of_loss =  y_hat - y.values.reshape(-1)\n",
    "\n",
    "print(\"Score with boosting: \", f1_score(y, 1 * (sigmoid(predictions_so_far) > 0.5)))"
   ]
  },
  {
   "cell_type": "code",
   "execution_count": 17,
   "metadata": {},
   "outputs": [
    {
     "data": {
      "text/plain": [
       "<sklearn.tree._tree.Tree at 0x7faeec0f2180>"
      ]
     },
     "execution_count": 17,
     "metadata": {},
     "output_type": "execute_result"
    }
   ],
   "source": [
    "trees[0].tree_"
   ]
  },
  {
   "cell_type": "code",
   "execution_count": null,
   "metadata": {},
   "outputs": [],
   "source": []
  }
 ],
 "metadata": {
  "colab": {
   "name": "AI basics.ipynb",
   "provenance": [],
   "toc_visible": true
  },
  "interpreter": {
   "hash": "1cd4112ee697feb47ec4321357aa333673c485b2f335328c935108ae8c7ab29f"
  },
  "kernelspec": {
   "display_name": "Python 3.8.11 64-bit ('scratch': conda)",
   "name": "python3"
  },
  "language_info": {
   "codemirror_mode": {
    "name": "ipython",
    "version": 3
   },
   "file_extension": ".py",
   "mimetype": "text/x-python",
   "name": "python",
   "nbconvert_exporter": "python",
   "pygments_lexer": "ipython3",
   "version": "3.8.11"
  }
 },
 "nbformat": 4,
 "nbformat_minor": 2
}
