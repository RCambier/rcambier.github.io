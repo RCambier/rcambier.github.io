{
 "cells": [
  {
   "cell_type": "raw",
   "metadata": {},
   "source": [
    "---\n",
    "aliases:\n",
    "- /ai/2021/09/13/hypothesis-testing\n",
    "badges: true\n",
    "categories:\n",
    "- ai\n",
    "date: '2021-09-13'\n",
    "description: Hypothesis testing, confidence interval\n",
    "output-file: 2021-09-13-hypothesis-testing.html\n",
    "publishes: true\n",
    "title: Hypothesis testing\n",
    "\n",
    "---\n",
    "\n"
   ]
  },
  {
   "cell_type": "markdown",
   "metadata": {
    "id": "fjIou7n5usFX"
   },
   "source": [
    "# Hypothesis testing"
   ]
  },
  {
   "cell_type": "code",
   "execution_count": 3,
   "metadata": {
    "id": "t7gVKSzOmZeX"
   },
   "outputs": [],
   "source": [
    "import scipy as sp \n",
    "import numpy as np "
   ]
  },
  {
   "cell_type": "markdown",
   "metadata": {
    "id": "o9c4hH7twl5S"
   },
   "source": [
    "### A typical statement\n",
    "\n",
    "A particular brand of tires claims that its deluxe tire averages at least 50,000 miles before it needs to be replaced. From past studies of this tire, the standard deviation is known to be 8,000. A survey of owners of that tire design is conducted. From the 28 tires surveyed, the mean lifespan was 46,500 miles with a standard deviation of 9,800 miles. Using  𝛼=0.05 , is the data highly inconsistent with the claim?"
   ]
  },
  {
   "cell_type": "code",
   "execution_count": 5,
   "metadata": {
    "id": "nvagyoIzvEcd"
   },
   "outputs": [],
   "source": [
    "# What we know of the population\n",
    "claim_pop_mean = 50_000\n",
    "pop_std = 8000\n",
    "\n",
    "# What we know of the sample\n",
    "n = 28\n",
    "sample_mean = 46_500\n",
    "sample_std = 9800\n",
    "\n",
    "# The chances of Type 1 error we are ready to accept\n",
    "alpha = 0.05"
   ]
  },
  {
   "cell_type": "markdown",
   "metadata": {},
   "source": [
    "The question can be formulated as: \n",
    "- \"Compared to the mean of that population (50_000), how crazy is the sample mean (46_500) ? With an alpha of 0.05\"\n",
    "\n",
    "which becomes\n",
    "- \"Using the sample deviation of the mean of that population, how far is the sample mean ? With an alpha of 0.05\"\n",
    "\n",
    "which becomes\n",
    "- \"Is the sample mean further away than 1.64 times the standard error of that population ?\""
   ]
  },
  {
   "cell_type": "code",
   "execution_count": 13,
   "metadata": {},
   "outputs": [],
   "source": [
    "# 1. How far is the sample_mean from the pop_mean ?\n",
    "# H0 => pop_mean >= 50_000\n",
    "# H1 => pop_mean < 50_000\n",
    "\n",
    "population_standard_error = 8000 / np.sqrt(28) # \"If you grab a random sample mean, how is it going to variate\"\n",
    "how_far_we_are_from_pop_mean = (46_500 - 50_000) / population_standard_error # How far is this specific sample mean from the population mean. "
   ]
  },
  {
   "cell_type": "markdown",
   "metadata": {},
   "source": [
    "There are different ways to reject the null hypothesis. \n",
    "\n",
    "We can look at wether we are smaller or not than 0.05."
   ]
  },
  {
   "cell_type": "code",
   "execution_count": 14,
   "metadata": {},
   "outputs": [
    {
     "data": {
      "text/plain": [
       "0.010305579572800304"
      ]
     },
     "execution_count": 14,
     "metadata": {},
     "output_type": "execute_result"
    }
   ],
   "source": [
    "how_far_we_are_in_z = sp.stats.norm.cdf(how_far_we_are_from_pop_mean) \n",
    "how_far_we_are_in_z"
   ]
  },
  {
   "cell_type": "markdown",
   "metadata": {},
   "source": [
    "In this case we are at 0.01, which means that in the distribution of sample means, we are so extreme that there is no way that the sample mean we observed actually came from the sample mean distribution that we built looking at the population.\n",
    "\n",
    "Another way is to look at how far we go on the axis, not in term of percentage (like 0,05 being 5%) but in term of distance from the population mean. This would look like the following\n",
    "\n"
   ]
  },
  {
   "cell_type": "code",
   "execution_count": 12,
   "metadata": {},
   "outputs": [
    {
     "data": {
      "text/plain": [
       "-2.315032397181517"
      ]
     },
     "execution_count": 12,
     "metadata": {},
     "output_type": "execute_result"
    }
   ],
   "source": [
    "how_far_we_are_from_pop_mean"
   ]
  },
  {
   "cell_type": "markdown",
   "metadata": {},
   "source": [
    "To know if this is a value too extreme or not, we can compare it to how far 0.05 is on the same axis: "
   ]
  },
  {
   "cell_type": "code",
   "execution_count": 20,
   "metadata": {},
   "outputs": [
    {
     "data": {
      "text/plain": [
       "-1.6448536269514722"
      ]
     },
     "execution_count": 20,
     "metadata": {},
     "output_type": "execute_result"
    }
   ],
   "source": [
    "- sp.stats.norm.ppf(0.95)"
   ]
  },
  {
   "cell_type": "markdown",
   "metadata": {},
   "source": [
    "# When you don't have the population standard deviation"
   ]
  },
  {
   "cell_type": "markdown",
   "metadata": {},
   "source": [
    "Realistically however, you often don't have the population standard deviation. \n",
    "In this case, you need to estimate it from the sample. \n",
    "\n",
    "Doing that is less accurate. In order to compensate a bit, we need to model the \"spread of sample means\" a bit differently. \n",
    "\n",
    "Since normally we allow the sample mean to only go \"so far\" from the population mean. We will force it to be \"even a bit further\". The way we do this is by using a \"heavy tail\" distribution for the sample mean. That way, the 0.05 mark will be further to the right or to the left, and we are forced to be a little bit more sure of ourselves before saying anything. \n",
    "\n",
    "\n",
    "Let's use the sample problem as above, but pretend that we don't know that the population has a standard deviation of 8000. We are forced to use the 9800 that we discovered experimentally. "
   ]
  },
  {
   "cell_type": "code",
   "execution_count": 29,
   "metadata": {},
   "outputs": [
    {
     "data": {
      "text/plain": [
       "0.014225814767264972"
      ]
     },
     "execution_count": 29,
     "metadata": {},
     "output_type": "execute_result"
    }
   ],
   "source": [
    "# What we know of the population\n",
    "claim_pop_mean = 50_000\n",
    "# --- pop_std = 8000 # we don't know this anymore ---\n",
    "\n",
    "# What we know of the sample\n",
    "n = 28\n",
    "sample_mean = 46_500\n",
    "sample_std = 9800\n",
    "\n",
    "# The chances of Type 1 error we are ready to accept\n",
    "alpha = 0.05\n",
    "\n",
    "# 1. How far is the sample_mean from the pop_mean ?\n",
    "# H0 => pop_mean >= 50_000\n",
    "# H1 => pop_mean < 50_000\n",
    "\n",
    "population_standard_error = 9800 / np.sqrt(28) # \"If you grab a random sample mean, how is it going to variate\"\n",
    "how_far_we_are_from_pop_mean = (46_500 - 50_000) / population_standard_error # How far is this specific sample mean from the population mean. \n",
    "\n",
    "how_far_we_are_in_z = sp.stats.t.cdf(how_far_we_are_from_pop_mean, df=n-1) \n",
    "how_far_we_are_in_z"
   ]
  },
  {
   "cell_type": "markdown",
   "metadata": {},
   "source": [
    "We still reject the null hypothesis. But notice how much less confident we are ! Even if the standard deviation we sample was exactly 8000 (like the population one), we would still be less confident than if we received the standard deviation through a trustful source. \n",
    "\n",
    "This is the whole point of this T student distribution !"
   ]
  },
  {
   "cell_type": "markdown",
   "metadata": {
    "id": "MHdN5YTju0ox"
   },
   "source": [
    "# Confidence interval "
   ]
  },
  {
   "cell_type": "markdown",
   "metadata": {},
   "source": [
    "Confidence interval are only in the point of view of the sample we just took. \n",
    "\n",
    "From that sample, let's just add a standard error on each side and see how far this goes. "
   ]
  },
  {
   "cell_type": "code",
   "execution_count": 30,
   "metadata": {
    "colab": {
     "base_uri": "https://localhost:8080/"
    },
    "id": "ceQmOUOH21uk",
    "outputId": "e02f5e88-ea43-4ba6-f7bb-a6623f0aab5f"
   },
   "outputs": [
    {
     "data": {
      "text/plain": [
       "3046.311548011343"
      ]
     },
     "execution_count": 30,
     "metadata": {},
     "output_type": "execute_result"
    }
   ],
   "source": [
    "how_much_we_allow_on_unit_normal_distrib = sp.stats.norm.ppf(0.95)\n",
    "sample_mean_standard_error = 9800 / np.sqrt(n)\n",
    "how_much_we_allow_in_problem_domain = how_much_we_allow_on_unit_normal_distrib * sample_mean_standard_error\n",
    "how_much_we_allow_in_problem_domain\n",
    "[46_500 - how_much_we_allow_in_problem_domain, 46_500 + how_much_we_allow_in_problem_domain]"
   ]
  }
 ],
 "metadata": {
  "colab": {
   "name": "AI basics.ipynb",
   "provenance": [],
   "toc_visible": true
  },
  "interpreter": {
   "hash": "fd589ee5ced0891cb656c7a70d902ac388d33fb7278304a3342d085a5b2186d0"
  },
  "kernelspec": {
   "display_name": "Python 3.8.2 64-bit ('base': conda)",
   "name": "python3"
  },
  "language_info": {
   "codemirror_mode": {
    "name": "ipython",
    "version": 3
   },
   "file_extension": ".py",
   "mimetype": "text/x-python",
   "name": "python",
   "nbconvert_exporter": "python",
   "pygments_lexer": "ipython3",
   "version": "3.8.2"
  }
 },
 "nbformat": 4,
 "nbformat_minor": 2
}
