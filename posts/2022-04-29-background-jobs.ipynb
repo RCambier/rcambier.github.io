{
 "cells": [
  {
   "cell_type": "raw",
   "metadata": {},
   "source": [
    "---\n",
    "aliases:\n",
    "- /programming/system/2022/04/29/background-jobs\n",
    "badges: true\n",
    "categories:\n",
    "- programming\n",
    "- system\n",
    "date: '2022-04-29'\n",
    "description: How to use background jobs to quickly queue a job after a running command\n",
    "output-file: 2022-04-29-background-jobs.html\n",
    "publishes: true\n",
    "title: Easy way to queue a job in the terminal\n",
    "\n",
    "---\n",
    "\n"
   ]
  },
  {
   "cell_type": "markdown",
   "metadata": {},
   "source": [
    "There is a small trick I love to use when running long commands in my terminal. \n",
    "\n",
    "To run a job in the background, you can append `&` to the end of it. But what if you just started running a command, and you now realize you wanted to queue another command after it? Since you forgot to add `&`, it's now running in the foreground in your terminal and it's not easy to queue another job after it. Well, here is how to do it:\n",
    "\n",
    "1. You run your first command forgetting to add the `&` at the end\n",
    "```bash\n",
    "$ for i in {1..5}; do sleep 1; done\n",
    "```\n",
    "\n",
    "2. You use `CTRL + Z` to pause that job and put it in the background. You should see\n",
    "```\n",
    "> [1]  + 93657 suspended  sleep 1\n",
    "```\n",
    "\n",
    "3. You use `fg && [new command]` in order to put that job back to the foreground and queue another job to it. \n",
    "```bash\n",
    "$ fg && echo 'see!?'\n",
    "```\n",
    "```\n",
    "> [1]  + 93657 continued  sleep 1\n",
    "> see!?\n",
    "```"
   ]
  },
  {
   "cell_type": "markdown",
   "metadata": {},
   "source": [
    "# Using the `jobs` feature\n",
    "\n",
    "This is using the foreground/background job feature of the terminal. \n",
    "[Here](https://www.digitalocean.com/community/tutorials/how-to-use-bash-s-job-control-to-manage-foreground-and-background-processes) is a more detailed tutorial.\n",
    "\n",
    "To summarize the few command I use: \n",
    "- `CTRL + Z` to put a job in the background\n",
    "- `jobs` to have a look at all the jobs\n",
    "- `fg` to put the last bakgrounded process back to the foreground\n",
    "- `fg %2` to put another job back to the foreground\n",
    "- `kill %2` to kill job number 2"
   ]
  },
  {
   "cell_type": "markdown",
   "metadata": {},
   "source": []
  }
 ],
 "metadata": {
  "language_info": {
   "name": "python"
  },
  "orig_nbformat": 4
 },
 "nbformat": 4,
 "nbformat_minor": 2
}
